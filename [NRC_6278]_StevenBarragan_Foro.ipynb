{
 "cells": [
  {
   "cell_type": "markdown",
   "id": "8b6f603c",
   "metadata": {
    "id": "8b6f603c"
   },
   "source": [
    "<center><h1>Inteligencia Artificial</header1></center>"
   ]
  },
  {
   "cell_type": "markdown",
   "id": "3eb1aaac",
   "metadata": {
    "id": "3eb1aaac"
   },
   "source": [
    "Presentado por: Steven Fernando Barragan Montero <br>\n",
    "Fecha: 27/07/2022"
   ]
  },
  {
   "cell_type": "markdown",
   "id": "1dec299b",
   "metadata": {
    "ExecuteTime": {
     "end_time": "2022-03-14T15:14:04.930713Z",
     "start_time": "2022-03-14T15:14:04.921682Z"
    },
    "id": "1dec299b"
   },
   "source": [
    "# Importación de librerias necesarias"
   ]
  },
  {
   "cell_type": "code",
   "execution_count": 1,
   "id": "6d1abf7a",
   "metadata": {
    "ExecuteTime": {
     "end_time": "2022-03-14T15:14:46.228059Z",
     "start_time": "2022-03-14T15:14:46.223108Z"
    },
    "id": "6d1abf7a"
   },
   "outputs": [],
   "source": [
    "#Importamos la libreria pandas\n",
    "import pandas as pd \n",
    "#Importamos la libreria seaborn\n",
    "import seaborn as sns\n",
    "#Importamos la libreria numpy\n",
    "import numpy as np\n",
    "#Importamos LabelEncoder desde la libreria sklearn\n",
    "from sklearn.preprocessing import LabelEncoder\n",
    "#Importamos train_test_split desde la libreria sklearn\n",
    "from sklearn.model_selection import train_test_split\n",
    "#Importamos MinMaxScaler desde la libreria sklearn\n",
    "from sklearn.preprocessing import MinMaxScaler\n",
    "# Importamos DecisionTreeClassifier desde la libreria sklearn\n",
    "from sklearn.tree import DecisionTreeClassifier\n",
    "# Importamos metrics desde la libreria sklearn\n",
    "from sklearn import metrics"
   ]
  },
  {
   "cell_type": "markdown",
   "id": "6a44b924",
   "metadata": {
    "id": "6a44b924"
   },
   "source": [
    "## Cargar el Dataset"
   ]
  },
  {
   "cell_type": "code",
   "execution_count": 19,
   "id": "3541e808",
   "metadata": {
    "id": "3541e808"
   },
   "outputs": [
    {
     "data": {
      "text/html": [
       "<div>\n",
       "<style scoped>\n",
       "    .dataframe tbody tr th:only-of-type {\n",
       "        vertical-align: middle;\n",
       "    }\n",
       "\n",
       "    .dataframe tbody tr th {\n",
       "        vertical-align: top;\n",
       "    }\n",
       "\n",
       "    .dataframe thead th {\n",
       "        text-align: right;\n",
       "    }\n",
       "</style>\n",
       "<table border=\"1\" class=\"dataframe\">\n",
       "  <thead>\n",
       "    <tr style=\"text-align: right;\">\n",
       "      <th></th>\n",
       "      <th>age</th>\n",
       "      <th>workclass</th>\n",
       "      <th>fnlwgt</th>\n",
       "      <th>education</th>\n",
       "      <th>education-num</th>\n",
       "      <th>marital-status</th>\n",
       "      <th>occupation</th>\n",
       "      <th>relationship</th>\n",
       "      <th>race</th>\n",
       "      <th>sex</th>\n",
       "      <th>capital-gain</th>\n",
       "      <th>capital-loss</th>\n",
       "      <th>hours-per-week</th>\n",
       "      <th>native-country</th>\n",
       "      <th>salary</th>\n",
       "    </tr>\n",
       "  </thead>\n",
       "  <tbody>\n",
       "    <tr>\n",
       "      <th>0</th>\n",
       "      <td>39</td>\n",
       "      <td>State-gov</td>\n",
       "      <td>77516</td>\n",
       "      <td>Bachelors</td>\n",
       "      <td>13</td>\n",
       "      <td>Never-married</td>\n",
       "      <td>Adm-clerical</td>\n",
       "      <td>Not-in-family</td>\n",
       "      <td>White</td>\n",
       "      <td>Male</td>\n",
       "      <td>2174</td>\n",
       "      <td>0</td>\n",
       "      <td>40</td>\n",
       "      <td>United-States</td>\n",
       "      <td>&lt;=50K</td>\n",
       "    </tr>\n",
       "    <tr>\n",
       "      <th>1</th>\n",
       "      <td>50</td>\n",
       "      <td>Self-emp-not-inc</td>\n",
       "      <td>83311</td>\n",
       "      <td>Bachelors</td>\n",
       "      <td>13</td>\n",
       "      <td>Married-civ-spouse</td>\n",
       "      <td>Exec-managerial</td>\n",
       "      <td>Husband</td>\n",
       "      <td>White</td>\n",
       "      <td>Male</td>\n",
       "      <td>0</td>\n",
       "      <td>0</td>\n",
       "      <td>13</td>\n",
       "      <td>United-States</td>\n",
       "      <td>&lt;=50K</td>\n",
       "    </tr>\n",
       "    <tr>\n",
       "      <th>2</th>\n",
       "      <td>38</td>\n",
       "      <td>Private</td>\n",
       "      <td>215646</td>\n",
       "      <td>HS-grad</td>\n",
       "      <td>9</td>\n",
       "      <td>Divorced</td>\n",
       "      <td>Handlers-cleaners</td>\n",
       "      <td>Not-in-family</td>\n",
       "      <td>White</td>\n",
       "      <td>Male</td>\n",
       "      <td>0</td>\n",
       "      <td>0</td>\n",
       "      <td>40</td>\n",
       "      <td>United-States</td>\n",
       "      <td>&lt;=50K</td>\n",
       "    </tr>\n",
       "    <tr>\n",
       "      <th>3</th>\n",
       "      <td>53</td>\n",
       "      <td>Private</td>\n",
       "      <td>234721</td>\n",
       "      <td>11th</td>\n",
       "      <td>7</td>\n",
       "      <td>Married-civ-spouse</td>\n",
       "      <td>Handlers-cleaners</td>\n",
       "      <td>Husband</td>\n",
       "      <td>Black</td>\n",
       "      <td>Male</td>\n",
       "      <td>0</td>\n",
       "      <td>0</td>\n",
       "      <td>40</td>\n",
       "      <td>United-States</td>\n",
       "      <td>&lt;=50K</td>\n",
       "    </tr>\n",
       "    <tr>\n",
       "      <th>4</th>\n",
       "      <td>28</td>\n",
       "      <td>Private</td>\n",
       "      <td>338409</td>\n",
       "      <td>Bachelors</td>\n",
       "      <td>13</td>\n",
       "      <td>Married-civ-spouse</td>\n",
       "      <td>Prof-specialty</td>\n",
       "      <td>Wife</td>\n",
       "      <td>Black</td>\n",
       "      <td>Female</td>\n",
       "      <td>0</td>\n",
       "      <td>0</td>\n",
       "      <td>40</td>\n",
       "      <td>Cuba</td>\n",
       "      <td>&lt;=50K</td>\n",
       "    </tr>\n",
       "  </tbody>\n",
       "</table>\n",
       "</div>"
      ],
      "text/plain": [
       "   age          workclass  fnlwgt   education  education-num  \\\n",
       "0   39          State-gov   77516   Bachelors             13   \n",
       "1   50   Self-emp-not-inc   83311   Bachelors             13   \n",
       "2   38            Private  215646     HS-grad              9   \n",
       "3   53            Private  234721        11th              7   \n",
       "4   28            Private  338409   Bachelors             13   \n",
       "\n",
       "        marital-status          occupation    relationship    race      sex  \\\n",
       "0        Never-married        Adm-clerical   Not-in-family   White     Male   \n",
       "1   Married-civ-spouse     Exec-managerial         Husband   White     Male   \n",
       "2             Divorced   Handlers-cleaners   Not-in-family   White     Male   \n",
       "3   Married-civ-spouse   Handlers-cleaners         Husband   Black     Male   \n",
       "4   Married-civ-spouse      Prof-specialty            Wife   Black   Female   \n",
       "\n",
       "   capital-gain  capital-loss  hours-per-week  native-country  salary  \n",
       "0          2174             0              40   United-States   <=50K  \n",
       "1             0             0              13   United-States   <=50K  \n",
       "2             0             0              40   United-States   <=50K  \n",
       "3             0             0              40   United-States   <=50K  \n",
       "4             0             0              40            Cuba   <=50K  "
      ]
     },
     "execution_count": 19,
     "metadata": {},
     "output_type": "execute_result"
    }
   ],
   "source": [
    "#Código para cargar el Dataset\n",
    "df = pd.read_csv('https://raw.githubusercontent.com/sfbarragan/ArbolesDeDecisiones/master/salary.csv')\n",
    "# Mostramos el dataset\n",
    "df.head()"
   ]
  },
  {
   "cell_type": "markdown",
   "id": "93c30410",
   "metadata": {
    "id": "93c30410"
   },
   "source": [
    "## Descripción de la fuente del Dataset"
   ]
  },
  {
   "cell_type": "markdown",
   "id": "db6174bc",
   "metadata": {
    "id": "db6174bc"
   },
   "source": [
    "La extracción fue realizada por Barry Becker de la base de datos del censo de 1994.\n",
    "La tarea de predicción es determinar si una persona gana más de 50K al año.\n",
    "\n",
    "Las columnas son:<br>\n",
    "**edad:** continuo.<br>\n",
    "**clase de trabajo :** Privado, Auto-emp-not-inc, Self-emp-inc, Federal-gov, Local-gov, State-gov, Sin paga, Nunca trabajó.<br>\n",
    "**fnlwgt :** continuo.<br>\n",
    "**educación :** Licenciatura, Algo de universidad, 11.°, Graduado de HS, Escuela profesional, Assoc-acdm, Assoc-voc, 9.°, 7.° a 8.°, 12.°, Maestría, 1.° a 4.°, 10.°, Doctorado, 5.° a 6.°, Preescolar.<br>\n",
    "**educación-num :** continuo.<br>\n",
    "**estado civil :** Casado-civ-cónyuge, Divorciado, Nunca casado, Separado, Viudo, Casado-cónyuge-ausente, Casado-AF-cónyuge.<br>\n",
    "**ocupación :** Soporte técnico, Reparación artesanal, Otros servicios, Ventas, Gerente ejecutivo, Especialidad profesional, Limpiadores de manipuladores, Inspección de máquinas, Administrativo, Agricultura-pesca, Transporte-mudanza, Casa privada- serv, Servicio de protección, Fuerzas Armadas.<br>\n",
    "**parentesco :** Esposa, Hijo propio, Esposo, Fuera de la familia, Otro pariente, Soltero.<br>\n",
    "**raza :** Blanco, Asiático-Pac-Isleño, Amer-Indio-Esquimal, Otro, Negro.<br>\n",
    "**sexo :** Femenino, Masculino.<br>\n",
    "**plusvalía :** continua.\n",
    "**Pérdida de capital :** continua.<br>\n",
    "**horas por semana :** continuo.<br>\n",
    "**país nativo :** Estados Unidos, Camboya, Inglaterra, Puerto Rico, Canadá, Alemania, EE. UU. (Guam-USVI-etc), India, Japón, Grecia, Sur, China, Cuba, Irán, Honduras, Filipinas, Italia , Polonia, Jamaica, Vietnam, México, Portugal, Irlanda, Francia, República Dominicana, Laos, Ecuador, Taiwán, Haití, Colombia, Hungría, Guatemala, Nicaragua, Escocia, Tailandia, Yugoslavia, El-Salvador, Trinidad y Tobago, Perú, Hong , Holanda-Países Bajos.<br>\n",
    "**salario :** <=50K o >50K"
   ]
  },
  {
   "cell_type": "markdown",
   "id": "7f868eab",
   "metadata": {
    "id": "7f868eab"
   },
   "source": [
    "## Explique el problema a resolver. \n",
    "El dataset cuenta quecuenta con más de 32500 datos, busca predecir si una persona podra recibir un salario mayor o menor a 50000 dolares. La variable objetivo de este dataset lleva por nombre salario, y sus variables deentrada son edad, clase de trabajo, fnlwgt, educación, educacion_num, estado civil, ocupación, parentesco, raza, sexo, plusvalia, horas por semana, país nativo."
   ]
  },
  {
   "cell_type": "markdown",
   "id": "a0b719c1",
   "metadata": {
    "id": "a0b719c1"
   },
   "source": [
    "## Caracterización del Dataset\n",
    "\n",
    "Realice una descripción de los datos con:\n",
    "\n",
    ">- Número de instancias en total.\n",
    ">- Número de atributos de entrada, su significado y tipo.\n",
    ">- Estadísticas de la variable objetivo.\n",
    ">- Estadísticas los atributos en relación con la variable objetivo.\n"
   ]
  },
  {
   "cell_type": "markdown",
   "id": "e0f24511",
   "metadata": {},
   "source": [
    "# Número de instancias en total"
   ]
  },
  {
   "cell_type": "code",
   "execution_count": 20,
   "id": "2b489f14",
   "metadata": {},
   "outputs": [
    {
     "data": {
      "text/plain": [
       "age               32561\n",
       "workclass         32561\n",
       "fnlwgt            32561\n",
       "education         32561\n",
       "education-num     32561\n",
       "marital-status    32561\n",
       "occupation        32561\n",
       "relationship      32561\n",
       "race              32561\n",
       "sex               32561\n",
       "capital-gain      32561\n",
       "capital-loss      32561\n",
       "hours-per-week    32561\n",
       "native-country    32561\n",
       "salary            32561\n",
       "dtype: int64"
      ]
     },
     "execution_count": 20,
     "metadata": {},
     "output_type": "execute_result"
    }
   ],
   "source": [
    "#contar registros del dataset\n",
    "df.count()"
   ]
  },
  {
   "cell_type": "markdown",
   "id": "5cb4ce77",
   "metadata": {},
   "source": [
    "# Número de atributos de entrada, su significado y tipo\n",
    "\n",
    "**edad:** continuo.<br>\n",
    "**clase de trabajo :** Privado, Auto-emp-not-inc, Self-emp-inc, Federal-gov, Local-gov, State-gov, Sin paga, Nunca trabajó.<br>\n",
    "**fnlwgt :** continuo.<br>\n",
    "**educación :** Licenciatura, Algo de universidad, 11.°, Graduado de HS, Escuela profesional, Assoc-acdm, Assoc-voc, 9.°, 7.° a 8.°, 12.°, Maestría, 1.° a 4.°, 10.°, Doctorado, 5.° a 6.°, Preescolar.<br>\n",
    "**educación-num :** continuo.<br>\n",
    "**estado civil :** Casado-civ-cónyuge, Divorciado, Nunca casado, Separado, Viudo, Casado-cónyuge-ausente, Casado-AF-cónyuge.<br>\n",
    "**ocupación :** Soporte técnico, Reparación artesanal, Otros servicios, Ventas, Gerente ejecutivo, Especialidad profesional, Limpiadores de manipuladores, Inspección de máquinas, Administrativo, Agricultura-pesca, Transporte-mudanza, Casa privada- serv, Servicio de protección, Fuerzas Armadas.<br>\n",
    "**parentesco :** Esposa, Hijo propio, Esposo, Fuera de la familia, Otro pariente, Soltero.<br>\n",
    "**raza :** Blanco, Asiático-Pac-Isleño, Amer-Indio-Esquimal, Otro, Negro.<br>\n",
    "**sexo :** Femenino, Masculino.<br>\n",
    "**plusvalía :** continua.\n",
    "**Pérdida de capital :** continua.<br>\n",
    "**horas por semana :** continuo.<br>\n",
    "**país nativo :** Estados Unidos, Camboya, Inglaterra, Puerto Rico, Canadá, Alemania, EE. UU. (Guam-USVI-etc), India, Japón, Grecia, Sur, China, Cuba, Irán, Honduras, Filipinas, Italia , Polonia, Jamaica, Vietnam, México, Portugal, Irlanda, Francia, República Dominicana, Laos, Ecuador, Taiwán, Haití, Colombia, Hungría, Guatemala, Nicaragua, Escocia, Tailandia, Yugoslavia, El-Salvador, Trinidad y Tobago, Perú, Hong , Holanda-Países Bajos.<br>"
   ]
  },
  {
   "cell_type": "code",
   "execution_count": 21,
   "id": "2f0ed5d2",
   "metadata": {
    "id": "2f0ed5d2"
   },
   "outputs": [
    {
     "name": "stdout",
     "output_type": "stream",
     "text": [
      "<class 'pandas.core.frame.DataFrame'>\n",
      "RangeIndex: 32561 entries, 0 to 32560\n",
      "Data columns (total 14 columns):\n",
      " #   Column          Non-Null Count  Dtype \n",
      "---  ------          --------------  ----- \n",
      " 0   age             32561 non-null  int64 \n",
      " 1   workclass       32561 non-null  object\n",
      " 2   fnlwgt          32561 non-null  int64 \n",
      " 3   education       32561 non-null  object\n",
      " 4   education-num   32561 non-null  int64 \n",
      " 5   marital-status  32561 non-null  object\n",
      " 6   occupation      32561 non-null  object\n",
      " 7   relationship    32561 non-null  object\n",
      " 8   race            32561 non-null  object\n",
      " 9   sex             32561 non-null  object\n",
      " 10  capital-gain    32561 non-null  int64 \n",
      " 11  capital-loss    32561 non-null  int64 \n",
      " 12  hours-per-week  32561 non-null  int64 \n",
      " 13  native-country  32561 non-null  object\n",
      "dtypes: int64(6), object(8)\n",
      "memory usage: 3.5+ MB\n"
     ]
    }
   ],
   "source": [
    "#muestra la información (incluido el tipo de dato) de los 7 atributos de entrada.\n",
    "df.drop('salary', axis=1).info()"
   ]
  },
  {
   "cell_type": "markdown",
   "id": "9b155e15",
   "metadata": {},
   "source": [
    "# Estadísticas de la variable objetivo."
   ]
  },
  {
   "cell_type": "code",
   "execution_count": 22,
   "id": "58649ed2",
   "metadata": {},
   "outputs": [
    {
     "data": {
      "text/plain": [
       "<AxesSubplot:>"
      ]
     },
     "execution_count": 22,
     "metadata": {},
     "output_type": "execute_result"
    },
    {
     "data": {
      "image/png": "[encoded data removed]",
      "text/plain": [
       "<Figure size 432x288 with 1 Axes>"
      ]
     },
     "metadata": {
      "needs_background": "light"
     },
     "output_type": "display_data"
    }
   ],
   "source": [
    "# Instanciamos la libreria matplotlib\n",
    "%matplotlib inline\n",
    "#Crear gráfico de barras como la variable objetivo (tipo) continua.\n",
    "df['salary'].hist()"
   ]
  },
  {
   "cell_type": "markdown",
   "id": "562d6b00",
   "metadata": {},
   "source": [
    "# Estadísticas los atributos en relación con la variable objetivo."
   ]
  },
  {
   "cell_type": "code",
   "execution_count": 23,
   "id": "0e17c31c",
   "metadata": {},
   "outputs": [],
   "source": [
    "#Creamnos la instancia de labelencoder\n",
    "labelencoder = LabelEncoder()\n",
    "\n",
    "#Transformamos los datos de la columna salary\n",
    "df[\"salary\"] = labelencoder.fit_transform(df[\"salary\"])\n",
    "#Transformamos los datos de la columna workclass\n",
    "df[\"workclass\"] = labelencoder.fit_transform(df[\"workclass\"])\n",
    "#Transformamos los datos de la columna education\n",
    "df[\"education\"] = labelencoder.fit_transform(df[\"education\"])\n",
    "#Transformamos los datos de la columna marital-status\n",
    "df[\"marital-status\"] = labelencoder.fit_transform(df[\"marital-status\"])\n",
    "#Transformamos los datos de la columna occupation\n",
    "df[\"occupation\"] = labelencoder.fit_transform(df[\"occupation\"])\n",
    "#Transformamos los datos de la columna relationship\n",
    "df[\"relationship\"] = labelencoder.fit_transform(df[\"relationship\"])\n",
    "#Transformamos los datos de la columna race\n",
    "df[\"race\"] = labelencoder.fit_transform(df[\"race\"])\n",
    "#Transformamos los datos de la columna sex\n",
    "df[\"sex\"] = labelencoder.fit_transform(df[\"sex\"])\n",
    "#Transformamos los datos de la columna native-country\n",
    "df[\"native-country\"] = labelencoder.fit_transform(df[\"native-country\"])\n"
   ]
  },
  {
   "cell_type": "code",
   "execution_count": 24,
   "id": "44308bc7",
   "metadata": {},
   "outputs": [],
   "source": [
    "#Definición de una función para encontrar la relación estadística de variable objetivo contra todas las variables categóricas\n",
    "def FunctionAnova(inpData, TargetVariable, CategoricalPredictorList):\n",
    "    from scipy.stats import f_oneway\n",
    "\n",
    "    #Creación de una lista vacía de predictores o variables de entrada \n",
    "    SelectedPredictors=[]\n",
    "    \n",
    "    print('##### ANOVA Results ##### \\n')\n",
    "    for predictor in CategoricalPredictorList:\n",
    "        CategoryGroupLists=inpData.groupby(predictor)[TargetVariable].apply(list)\n",
    "        AnovaResults = f_oneway(*CategoryGroupLists)\n",
    "        #Si el valor P de ANOVA es <0.05, eso significa que rechazamos H0\n",
    "        if (AnovaResults[1] < 0.05):\n",
    "            print(predictor, 'is correlated with', TargetVariable, '| P-Value:', AnovaResults[1])\n",
    "            SelectedPredictors.append(predictor)\n",
    "        else:\n",
    "            print(predictor, 'is NOT correlated with', TargetVariable, '| P-Value:', AnovaResults[1])\n",
    "    \n",
    "    return(SelectedPredictors)"
   ]
  },
  {
   "cell_type": "code",
   "execution_count": 25,
   "id": "6e95f62d",
   "metadata": {},
   "outputs": [
    {
     "name": "stdout",
     "output_type": "stream",
     "text": [
      "##### ANOVA Results ##### \n",
      "\n",
      "['age', 'education-num', 'capital-gain', 'capital-loss', 'workclass', 'hours-per-week', 'marital-status', 'education', 'occupation', 'relationship', 'race', 'sex', 'native-country'] is correlated with salary | P-Value: 3.3339996723991194e-102\n"
     ]
    },
    {
     "data": {
      "text/plain": [
       "[['age',\n",
       "  'education-num',\n",
       "  'capital-gain',\n",
       "  'capital-loss',\n",
       "  'workclass',\n",
       "  'hours-per-week',\n",
       "  'marital-status',\n",
       "  'education',\n",
       "  'occupation',\n",
       "  'relationship',\n",
       "  'race',\n",
       "  'sex',\n",
       "  'native-country']]"
      ]
     },
     "execution_count": 25,
     "metadata": {},
     "output_type": "execute_result"
    }
   ],
   "source": [
    "#Llamar a la función para verificar qué variables categóricas están correlacionadas con la variable objetivo\n",
    "CategoricalPredictorList=['age', 'education-num','capital-gain', 'capital-loss', 'workclass', 'hours-per-week', 'marital-status', 'education', 'occupation', 'relationship', 'race', 'sex', 'native-country'], \n",
    "FunctionAnova(inpData=df, \n",
    "              TargetVariable='salary', \n",
    "              CategoricalPredictorList=CategoricalPredictorList)"
   ]
  },
  {
   "cell_type": "markdown",
   "id": "a7ab5e48",
   "metadata": {
    "id": "a7ab5e48"
   },
   "source": [
    "La distribución de datos de la variable objetivo es satisfactoria para continuar. Hay un número suficiente de filas para cada tipo de valores de los que puede aprender el modelo.\n",
    "\n",
    "Además se logro comprobar que las variables de entrada establecen una correlación con la variable objetivo del modelo. De esta forma determinamos que la modificación de los atributos de entrada del modelo afectara a la predicción del salario de la persona."
   ]
  },
  {
   "cell_type": "markdown",
   "id": "0a19e6af",
   "metadata": {
    "id": "0a19e6af"
   },
   "source": [
    "## Preprocesamiento del dataset. Transformaciones previas necesarias para la modelación"
   ]
  },
  {
   "cell_type": "code",
   "execution_count": 26,
   "id": "5a24dac4",
   "metadata": {
    "id": "5a24dac4"
   },
   "outputs": [
    {
     "data": {
      "text/plain": [
       "((22792, 14), (9769, 14))"
      ]
     },
     "execution_count": 26,
     "metadata": {},
     "output_type": "execute_result"
    }
   ],
   "source": [
    "# Preparamos los datos de entrenamiento y prueba\n",
    "X_train, X_test, y_train, y_test = train_test_split(df.drop('salary', axis=1),\n",
    "                                                    df['salary'],\n",
    "                                                    test_size=0.3,\n",
    "                                                    random_state=0)\n",
    "\n",
    "X_train.shape, X_test.shape"
   ]
  },
  {
   "cell_type": "code",
   "execution_count": 27,
   "id": "071e6507",
   "metadata": {},
   "outputs": [],
   "source": [
    "# Instanciamos scaler\n",
    "scaler = MinMaxScaler()\n",
    "\n",
    "# entrenamos el modelo\n",
    "scaler.fit(X_train)\n",
    "\n",
    "# transformamos los datos de entrenamiento y prueba\n",
    "X_train_scaled = scaler.transform(X_train)\n",
    "X_test_scaled = scaler.transform(X_test)"
   ]
  },
  {
   "cell_type": "code",
   "execution_count": 28,
   "id": "c8def8be",
   "metadata": {},
   "outputs": [],
   "source": [
    "# Transformamos los datos de entrenamiento devueltos por el modelo\n",
    "X_train_scaled = pd.DataFrame(X_train_scaled, columns=X_train.columns)\n",
    "# Transformamos los datos de test devueltos por el modelo\n",
    "X_test_scaled = pd.DataFrame(X_test_scaled, columns=X_test.columns)"
   ]
  },
  {
   "cell_type": "code",
   "execution_count": 29,
   "id": "06dceed8",
   "metadata": {},
   "outputs": [
    {
     "data": {
      "image/png": "[encoded data removed]",
      "text/plain": [
       "<Figure size 864x360 with 2 Axes>"
      ]
     },
     "metadata": {
      "needs_background": "light"
     },
     "output_type": "display_data"
    }
   ],
   "source": [
    "import matplotlib.pyplot as plt\n",
    "# let's compare the variable distributions before and after scaling\n",
    "\n",
    "fig, (ax1, ax2) = plt.subplots(ncols=2, figsize=(12, 5))\n",
    "\n",
    "# before scaling\n",
    "ax1.set_title('Before Scaling')\n",
    "sns.kdeplot(X_train['age'], ax=ax1)\n",
    "sns.kdeplot(X_train['education-num'], ax=ax1)\n",
    "sns.kdeplot(X_train['capital-gain'], ax=ax1)\n",
    "sns.kdeplot(X_train['capital-loss'], ax=ax1)\n",
    "sns.kdeplot(X_train['workclass'], ax=ax1)\n",
    "sns.kdeplot(X_train['hours-per-week'], ax=ax1)\n",
    "sns.kdeplot(X_train['marital-status'], ax=ax1)\n",
    "sns.kdeplot(X_train['education'], ax=ax1)\n",
    "sns.kdeplot(X_train['occupation'], ax=ax1)\n",
    "sns.kdeplot(X_train['relationship'], ax=ax1)\n",
    "sns.kdeplot(X_train['race'], ax=ax1)\n",
    "sns.kdeplot(X_train['sex'], ax=ax1)\n",
    "sns.kdeplot(X_train['native-country'], ax=ax1)\n",
    "\n",
    "\n",
    "# after scaling\n",
    "ax2.set_title('After Mean Normalisation')\n",
    "sns.kdeplot(X_train_scaled['age'], ax=ax2)\n",
    "sns.kdeplot(X_train_scaled['education-num'], ax=ax2)\n",
    "sns.kdeplot(X_train_scaled['capital-gain'], ax=ax2)\n",
    "sns.kdeplot(X_train_scaled['capital-loss'], ax=ax2)\n",
    "sns.kdeplot(X_train_scaled['workclass'], ax=ax2)\n",
    "sns.kdeplot(X_train_scaled['hours-per-week'], ax=ax2)\n",
    "sns.kdeplot(X_train_scaled['marital-status'], ax=ax2)\n",
    "sns.kdeplot(X_train_scaled['education'], ax=ax2)\n",
    "sns.kdeplot(X_train_scaled['occupation'], ax=ax2)\n",
    "sns.kdeplot(X_train_scaled['relationship'], ax=ax2)\n",
    "sns.kdeplot(X_train_scaled['race'], ax=ax2)\n",
    "sns.kdeplot(X_train_scaled['sex'], ax=ax2)\n",
    "sns.kdeplot(X_train_scaled['native-country'], ax=ax2)\n",
    "plt.show()"
   ]
  },
  {
   "cell_type": "markdown",
   "id": "49815fde",
   "metadata": {
    "ExecuteTime": {
     "end_time": "2022-03-14T15:56:34.366469Z",
     "start_time": "2022-03-14T15:56:34.358471Z"
    },
    "id": "49815fde"
   },
   "source": [
    "## División del dataset en datos de entrenamiento y datos de test "
   ]
  },
  {
   "cell_type": "code",
   "execution_count": 30,
   "id": "6f26d21e",
   "metadata": {
    "id": "6f26d21e"
   },
   "outputs": [
    {
     "data": {
      "text/plain": [
       "((22792, 13), (9769, 13))"
      ]
     },
     "execution_count": 30,
     "metadata": {},
     "output_type": "execute_result"
    }
   ],
   "source": [
    "# Asignamos nuestras variables x\n",
    "X = df[['age', 'education-num','capital-gain', 'capital-loss', 'workclass', 'hours-per-week', 'marital-status', 'education', 'occupation', 'relationship', 'race', 'sex', 'native-country']]\n",
    "# Asignamos nuestra variable y\n",
    "y = df[['salary']]\n",
    "# Dividimos los datos en entrenamiento y prueb\n",
    "X_train, X_test, y_train, y_test = train_test_split(X, y, test_size=0.3, random_state=1)\n",
    "\n",
    "#Verificamos la cantidad de datos\n",
    "X_train.shape, X_test.shape"
   ]
  },
  {
   "cell_type": "markdown",
   "id": "6319adad",
   "metadata": {
    "id": "6319adad"
   },
   "source": [
    "## Modelamiento"
   ]
  },
  {
   "cell_type": "code",
   "execution_count": 31,
   "id": "d5d2b2c6",
   "metadata": {
    "id": "d5d2b2c6"
   },
   "outputs": [],
   "source": [
    "# Instanciamos el arbol de decisiones\n",
    "clf = DecisionTreeClassifier()"
   ]
  },
  {
   "cell_type": "code",
   "execution_count": 32,
   "id": "33f5be2a",
   "metadata": {
    "ExecuteTime": {
     "end_time": "2022-04-25T07:21:39.020596Z",
     "start_time": "2022-04-25T07:21:39.005596Z"
    },
    "id": "33f5be2a"
   },
   "outputs": [],
   "source": [
    "#Entrenamos el modelo con los datos de entrenamiento\n",
    "clf = clf.fit(X_train,y_train)"
   ]
  },
  {
   "cell_type": "code",
   "execution_count": 33,
   "id": "a2e675b3",
   "metadata": {
    "id": "a2e675b3"
   },
   "outputs": [],
   "source": [
    "# Realizamos la prediccion de los datos de prueba\n",
    "y_pred = clf.predict(X_test)"
   ]
  },
  {
   "cell_type": "code",
   "execution_count": 34,
   "id": "3cc55b62",
   "metadata": {},
   "outputs": [
    {
     "name": "stdout",
     "output_type": "stream",
     "text": [
      "Accuracy: 0.8253659535264612\n"
     ]
    }
   ],
   "source": [
    "# Mostramos el accuracy del modelo entrenado\n",
    "print(\"Accuracy:\", metrics.accuracy_score(y_test, y_pred))"
   ]
  },
  {
   "cell_type": "code",
   "execution_count": null,
   "id": "d0ec4ee1",
   "metadata": {},
   "outputs": [],
   "source": [
    "prediccion = y_pred ==y_test"
   ]
  },
  {
   "cell_type": "markdown",
   "id": "9c2239f5",
   "metadata": {
    "id": "9c2239f5"
   },
   "source": [
    "## Evaluación del Modelo"
   ]
  },
  {
   "cell_type": "markdown",
   "id": "ad219a0c",
   "metadata": {
    "id": "ad219a0c"
   },
   "source": [
    "El modelo de decision tree entrenado con 22792 datos, posee un nivel de exactitud del 82%, logrado durante el periodo de prueba efectuado con 9769 algo que a simple vista puede parecer un resultado aceptable, sin embargo el hecho de que el modelo posea un margen de error del 18% representa un problema para predecir los salarios de con exactitud. Sin embargo el modelo se adapto en gran medida a el tipo de clasificación que se presento (clasificación binaria),  "
   ]
  }
 ],
 "metadata": {
  "colab": {
   "name": "NotebookBase_ProgramaciónIA.ipynb",
   "provenance": []
  },
  "kernelspec": {
   "display_name": "Python 3 (ipykernel)",
   "language": "python",
   "name": "python3"
  },
  "language_info": {
   "codemirror_mode": {
    "name": "ipython",
    "version": 3
   },
   "file_extension": ".py",
   "mimetype": "text/x-python",
   "name": "python",
   "nbconvert_exporter": "python",
   "pygments_lexer": "ipython3",
   "version": "3.9.7"
  },
  "toc": {
   "base_numbering": 1,
   "nav_menu": {},
   "number_sections": true,
   "sideBar": true,
   "skip_h1_title": true,
   "title_cell": "Tabla de Contenido",
   "title_sidebar": "Contenido",
   "toc_cell": false,
   "toc_position": {
    "height": "calc(100% - 180px)",
    "left": "10px",
    "top": "150px",
    "width": "263.591px"
   },
   "toc_section_display": true,
   "toc_window_display": true
  }
 },
 "nbformat": 4,
 "nbformat_minor": 5
}
